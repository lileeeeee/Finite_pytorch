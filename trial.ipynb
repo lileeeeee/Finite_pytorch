{
 "cells": [
  {
   "cell_type": "code",
   "execution_count": 1,
   "metadata": {
    "collapsed": true
   },
   "outputs": [],
   "source": [
    "import random\n",
    "\n",
    "import torch"
   ]
  },
  {
   "cell_type": "code",
   "execution_count": 2,
   "outputs": [],
   "source": [
    "device = torch.device(\"mps\")"
   ],
   "metadata": {
    "collapsed": false
   }
  },
  {
   "cell_type": "code",
   "execution_count": 4,
   "outputs": [
    {
     "data": {
      "text/plain": "device(type='mps')"
     },
     "execution_count": 4,
     "metadata": {},
     "output_type": "execute_result"
    }
   ],
   "source": [
    "device"
   ],
   "metadata": {
    "collapsed": false
   }
  },
  {
   "cell_type": "code",
   "execution_count": 4,
   "outputs": [],
   "source": [
    "def inv_sphere_proj(raw_point, n_dim, n_train, radius):\n",
    "    \"\"\"inverse stereographic projection\n",
    "\n",
    "    n_dim:\n",
    "    the dimension of the original data\n",
    "\n",
    "    n_train:\n",
    "    the number of points to be projected\n",
    "\n",
    "    radius:\n",
    "    the radius of the sphere\n",
    "    \"\"\"\n",
    "\n",
    "    res = []\n",
    "    for i in range(n_train):\n",
    "        tmp = []\n",
    "        normal = torch.sum(torch.square(raw_point[i]))\n",
    "        for j in range(n_dim):\n",
    "            tmp.append(torch.sum((2 * raw_point[i][j] / (normal + 1) * radius)))\n",
    "        tmp.append(torch.sum(((normal - 1) / (normal + 1) * radius)))\n",
    "        res.append(torch.stack(tmp))\n",
    "    res = torch.stack(res)\n",
    "    return res"
   ],
   "metadata": {
    "collapsed": false
   }
  },
  {
   "cell_type": "code",
   "execution_count": 8,
   "outputs": [
    {
     "data": {
      "text/plain": "tensor([[-0.6667,  0.6667,  0.3333]])"
     },
     "execution_count": 8,
     "metadata": {},
     "output_type": "execute_result"
    }
   ],
   "source": [
    "inv_sphere_proj(torch.Tensor([[1,1]]), 2, 1, 1)"
   ],
   "metadata": {
    "collapsed": false
   }
  },
  {
   "cell_type": "code",
   "execution_count": 9,
   "outputs": [],
   "source": [
    "import math"
   ],
   "metadata": {
    "collapsed": false
   }
  },
  {
   "cell_type": "code",
   "execution_count": 17,
   "outputs": [],
   "source": [
    "def get_g_loss(fake):\n",
    "    # return tf.reduce_mean(1. - fake)\n",
    "    return -torch.mean(torch.log(fake + 1e-10))"
   ],
   "metadata": {
    "collapsed": false
   }
  },
  {
   "cell_type": "code",
   "execution_count": 25,
   "outputs": [
    {
     "data": {
      "text/plain": "tensor(-0.3466)"
     },
     "execution_count": 25,
     "metadata": {},
     "output_type": "execute_result"
    }
   ],
   "source": [
    "get_g_loss(torch.Tensor([[2,1],[1,2]]))"
   ],
   "metadata": {
    "collapsed": false
   }
  },
  {
   "cell_type": "code",
   "execution_count": 22,
   "outputs": [
    {
     "data": {
      "text/plain": "tensor([0.0000, 0.6931])"
     },
     "execution_count": 22,
     "metadata": {},
     "output_type": "execute_result"
    }
   ],
   "source": [
    "torch.log(torch.Tensor([1,2]))"
   ],
   "metadata": {
    "collapsed": false
   }
  },
  {
   "cell_type": "code",
   "execution_count": 27,
   "outputs": [],
   "source": [
    "import torch.nn as nn"
   ],
   "metadata": {
    "collapsed": false
   }
  },
  {
   "cell_type": "code",
   "execution_count": 34,
   "outputs": [],
   "source": [
    "class Discriminator(nn.Module):\n",
    "    def __init__(self, stride=1):\n",
    "        super(Discriminator, self).__init__()\n",
    "        self.dense1 = nn.Linear(in_features=3, out_features=5)\n",
    "\n",
    "    def forward(self, x):\n",
    "        out = self.dense1(x)\n",
    "        return out"
   ],
   "metadata": {
    "collapsed": false
   }
  },
  {
   "cell_type": "code",
   "execution_count": 35,
   "outputs": [],
   "source": [
    "net = Discriminator()"
   ],
   "metadata": {
    "collapsed": false
   }
  },
  {
   "cell_type": "code",
   "execution_count": 40,
   "outputs": [],
   "source": [
    "a = torch.Tensor([[-3.9648,  1.4630,  1.3172],\n",
    "        [-0.9370,  2.6130,  1.3896],\n",
    "        [-1.1344,  0.9756,  0.6380]])"
   ],
   "metadata": {
    "collapsed": false
   }
  },
  {
   "cell_type": "code",
   "execution_count": 41,
   "outputs": [
    {
     "data": {
      "text/plain": "tensor([[-3.9648,  1.4630,  1.3172],\n        [-0.9370,  2.6130,  1.3896],\n        [-1.1344,  0.9756,  0.6380]])"
     },
     "execution_count": 41,
     "metadata": {},
     "output_type": "execute_result"
    }
   ],
   "source": [
    "a"
   ],
   "metadata": {
    "collapsed": false
   }
  },
  {
   "cell_type": "code",
   "execution_count": 42,
   "outputs": [
    {
     "data": {
      "text/plain": "tensor([[ 1.7146, -1.3754, -1.0005, -2.1532, -1.7996],\n        [-0.1205, -0.0937, -1.0022, -1.9742,  0.1841],\n        [ 0.3528, -0.2894, -0.4152, -1.2566, -0.4335]],\n       grad_fn=<AddmmBackward0>)"
     },
     "execution_count": 42,
     "metadata": {},
     "output_type": "execute_result"
    }
   ],
   "source": [
    "net(a)"
   ],
   "metadata": {
    "collapsed": false
   }
  },
  {
   "cell_type": "code",
   "execution_count": null,
   "outputs": [],
   "source": [],
   "metadata": {
    "collapsed": false
   }
  },
  {
   "cell_type": "code",
   "execution_count": 39,
   "outputs": [
    {
     "ename": "TypeError",
     "evalue": "new() received an invalid combination of arguments - got (list, dtype=torch.dtype), but expected one of:\n * (*, torch.device device)\n      didn't match because some of the keywords were incorrect: dtype\n * (torch.Storage storage)\n * (Tensor other)\n * (tuple of ints size, *, torch.device device)\n * (object data, *, torch.device device)\n",
     "output_type": "error",
     "traceback": [
      "\u001B[0;31m---------------------------------------------------------------------------\u001B[0m",
      "\u001B[0;31mTypeError\u001B[0m                                 Traceback (most recent call last)",
      "Cell \u001B[0;32mIn [39], line 1\u001B[0m\n\u001B[0;32m----> 1\u001B[0m a \u001B[38;5;241m=\u001B[39m \u001B[43mtorch\u001B[49m\u001B[38;5;241;43m.\u001B[39;49m\u001B[43mTensor\u001B[49m\u001B[43m(\u001B[49m\u001B[43m[\u001B[49m\u001B[43m[\u001B[49m\u001B[43m \u001B[49m\u001B[38;5;241;43m0.9069\u001B[39;49m\u001B[43m,\u001B[49m\u001B[43m  \u001B[49m\u001B[38;5;241;43m1.0196\u001B[39;49m\u001B[43m,\u001B[49m\u001B[43m  \u001B[49m\u001B[38;5;241;43m1.5887\u001B[39;49m\u001B[43m]\u001B[49m\u001B[43m,\u001B[49m\n\u001B[1;32m      2\u001B[0m \u001B[43m        \u001B[49m\u001B[43m[\u001B[49m\u001B[43m \u001B[49m\u001B[38;5;241;43m0.6037\u001B[39;49m\u001B[43m,\u001B[49m\u001B[43m  \u001B[49m\u001B[38;5;241;43m3.7651\u001B[39;49m\u001B[43m,\u001B[49m\u001B[43m  \u001B[49m\u001B[38;5;241;43m0.2501\u001B[39;49m\u001B[43m]\u001B[49m\u001B[43m,\u001B[49m\n\u001B[1;32m      3\u001B[0m \u001B[43m        \u001B[49m\u001B[43m[\u001B[49m\u001B[38;5;241;43m-\u001B[39;49m\u001B[38;5;241;43m0.5194\u001B[39;49m\u001B[43m,\u001B[49m\u001B[43m \u001B[49m\u001B[38;5;241;43m-\u001B[39;49m\u001B[38;5;241;43m0.2935\u001B[39;49m\u001B[43m,\u001B[49m\u001B[43m  \u001B[49m\u001B[38;5;241;43m2.8842\u001B[39;49m\u001B[43m]\u001B[49m\u001B[43m]\u001B[49m\u001B[43m,\u001B[49m\u001B[43m \u001B[49m\u001B[43mdtype\u001B[49m\u001B[38;5;241;43m=\u001B[39;49m\u001B[43mtorch\u001B[49m\u001B[38;5;241;43m.\u001B[39;49m\u001B[43mfloat64\u001B[49m\u001B[43m)\u001B[49m\n",
      "\u001B[0;31mTypeError\u001B[0m: new() received an invalid combination of arguments - got (list, dtype=torch.dtype), but expected one of:\n * (*, torch.device device)\n      didn't match because some of the keywords were incorrect: dtype\n * (torch.Storage storage)\n * (Tensor other)\n * (tuple of ints size, *, torch.device device)\n * (object data, *, torch.device device)\n"
     ]
    }
   ],
   "source": [],
   "metadata": {
    "collapsed": false
   }
  },
  {
   "cell_type": "code",
   "execution_count": 45,
   "outputs": [
    {
     "data": {
      "text/plain": "True"
     },
     "execution_count": 45,
     "metadata": {},
     "output_type": "execute_result"
    }
   ],
   "source": [
    "torch.has_mps"
   ],
   "metadata": {
    "collapsed": false
   }
  },
  {
   "cell_type": "code",
   "execution_count": 46,
   "outputs": [
    {
     "data": {
      "text/plain": "Discriminator(\n  (dense1): Linear(in_features=3, out_features=5, bias=True)\n)"
     },
     "execution_count": 46,
     "metadata": {},
     "output_type": "execute_result"
    }
   ],
   "source": [
    "net.to(\"mps\")"
   ],
   "metadata": {
    "collapsed": false
   }
  },
  {
   "cell_type": "code",
   "execution_count": null,
   "outputs": [],
   "source": [
    "Tensor = torch.cuda.FloatTensor"
   ],
   "metadata": {
    "collapsed": false
   }
  },
  {
   "cell_type": "code",
   "execution_count": 27,
   "outputs": [],
   "source": [
    "from scipy.integrate import dblquad\n",
    "import numpy as np\n",
    "import math\n",
    "import torch"
   ],
   "metadata": {
    "collapsed": false
   }
  },
  {
   "cell_type": "code",
   "execution_count": 22,
   "outputs": [],
   "source": [
    "u_G = np.random.random(5)\n",
    "assert (u_G == 0).sum() != 10\n",
    "radius = math.sqrt((u_G * u_G).sum())\n",
    "tmp = np.random.random((5, 5))\n",
    "tmp = np.dot(tmp, tmp.transpose())\n",
    "sig_G = tmp + tmp.T"
   ],
   "metadata": {
    "collapsed": false
   }
  },
  {
   "cell_type": "code",
   "execution_count": 24,
   "outputs": [
    {
     "data": {
      "text/plain": "array([[4.82893791, 3.99940947, 4.6485405 , 2.79303387, 4.29967256],\n       [3.99940947, 5.74339077, 6.32683091, 3.83662554, 4.27836264],\n       [4.6485405 , 6.32683091, 7.29596813, 4.13152304, 4.68629953],\n       [2.79303387, 3.83662554, 4.13152304, 2.63390093, 2.9847854 ],\n       [4.29967256, 4.27836264, 4.68629953, 2.9847854 , 4.21438484]])"
     },
     "execution_count": 24,
     "metadata": {},
     "output_type": "execute_result"
    }
   ],
   "source": [
    "sig_G"
   ],
   "metadata": {
    "collapsed": false
   }
  },
  {
   "cell_type": "code",
   "execution_count": 16,
   "outputs": [],
   "source": [
    "def gauss(x, sigma):\n",
    "    return np.exp(-np.dot(np.dot(x, np.linalg.inv(sigma)), x) / 2) / (2 * np.pi) / np.sqrt(np.linalg.det(sigma))"
   ],
   "metadata": {
    "collapsed": false
   }
  },
  {
   "cell_type": "code",
   "execution_count": 23,
   "outputs": [],
   "source": [
    "def cal_numerical_TVD(sigma, i, j, c):\n",
    "    sig = np.array([[sigma[i][i], sigma[i][j]], [sigma[j][i], sigma[j][j]]])\n",
    "    print(sig)\n",
    "    val, err = dblquad(lambda y, x: np.abs(gauss(np.array([x, y]), sig) - gauss(np.array([x, y]), c * sig)) / 2,\n",
    "                       -np.inf, np.inf, -np.inf, np.inf)\n",
    "    return val"
   ],
   "metadata": {
    "collapsed": false
   }
  },
  {
   "cell_type": "code",
   "execution_count": 25,
   "outputs": [
    {
     "name": "stdout",
     "output_type": "stream",
     "text": [
      "[[5.74339077 4.27836264]\n",
      " [4.27836264 4.21438484]]\n"
     ]
    },
    {
     "data": {
      "text/plain": "0.24999995810045472"
     },
     "execution_count": 25,
     "metadata": {},
     "output_type": "execute_result"
    }
   ],
   "source": [
    "cal_numerical_TVD(sig_G, 1, 4, 2)"
   ],
   "metadata": {
    "collapsed": false
   }
  },
  {
   "cell_type": "code",
   "execution_count": 30,
   "outputs": [],
   "source": [
    "from torch.autograd import Variable"
   ],
   "metadata": {
    "collapsed": false
   }
  },
  {
   "cell_type": "code",
   "execution_count": 4,
   "outputs": [],
   "source": [
    "Tensor = torch.FloatTensor"
   ],
   "metadata": {
    "collapsed": false
   }
  },
  {
   "cell_type": "code",
   "execution_count": 43,
   "outputs": [],
   "source": [
    "test_ori_data = Variable(Tensor(np.random.multivariate_normal(np.zeros(5), (1 + 1) * sig_G, 3)))\n",
    "test_ori = torch.cat((test_ori_data[:, 1:2], test_ori_data[:, 2:3]), dim=1)"
   ],
   "metadata": {
    "collapsed": false
   }
  },
  {
   "cell_type": "code",
   "execution_count": 44,
   "outputs": [
    {
     "data": {
      "text/plain": "tensor([[-4.8529,  0.6363, -0.1105, -0.0201, -2.3349],\n        [ 1.2353,  1.9969,  3.0469,  0.9457,  1.0823],\n        [-0.8795,  0.3101, -1.2183,  0.6472,  0.8665]])"
     },
     "execution_count": 44,
     "metadata": {},
     "output_type": "execute_result"
    }
   ],
   "source": [
    "test_ori_data"
   ],
   "metadata": {
    "collapsed": false
   }
  },
  {
   "cell_type": "code",
   "execution_count": 45,
   "outputs": [
    {
     "data": {
      "text/plain": "tensor([[ 0.6363, -0.1105],\n        [ 1.9969,  3.0469],\n        [ 0.3101, -1.2183]])"
     },
     "execution_count": 45,
     "metadata": {},
     "output_type": "execute_result"
    }
   ],
   "source": [
    "test_ori"
   ],
   "metadata": {
    "collapsed": false
   }
  },
  {
   "cell_type": "code",
   "execution_count": 39,
   "outputs": [
    {
     "data": {
      "text/plain": "tensor([[-3.0260],\n        [ 3.1249],\n        [-0.7521]])"
     },
     "execution_count": 39,
     "metadata": {},
     "output_type": "execute_result"
    }
   ],
   "source": [
    "test_ori_data[:, 1:2]"
   ],
   "metadata": {
    "collapsed": false
   }
  },
  {
   "cell_type": "code",
   "execution_count": 58,
   "outputs": [],
   "source": [
    "import random\n",
    "import torch.nn as nn"
   ],
   "metadata": {
    "collapsed": false
   }
  },
  {
   "cell_type": "code",
   "execution_count": 59,
   "outputs": [
    {
     "data": {
      "text/plain": "1"
     },
     "execution_count": 59,
     "metadata": {},
     "output_type": "execute_result"
    }
   ],
   "source": [
    "random.randint(0, 1)"
   ],
   "metadata": {
    "collapsed": false
   }
  },
  {
   "cell_type": "code",
   "execution_count": 60,
   "outputs": [
    {
     "ename": "SyntaxError",
     "evalue": "invalid syntax (1067259103.py, line 2)",
     "output_type": "error",
     "traceback": [
      "\u001B[0;36m  Cell \u001B[0;32mIn [60], line 2\u001B[0;36m\u001B[0m\n\u001B[0;31m    [ 0.84623921 0.15091511 0.12822951 0.71534105 0.93871608 0.17218971 0.55273356 0.88380656 0.35630968 0.9762188 ]\u001B[0m\n\u001B[0m                 ^\u001B[0m\n\u001B[0;31mSyntaxError\u001B[0m\u001B[0;31m:\u001B[0m invalid syntax\n"
     ]
    }
   ],
   "source": [
    "[ 0.84623921 0.15091511 0.12822951 0.71534105 0.93871608 0.17218971 0.55273356 0.88380656 0.35630968 0.9762188 ]\n",
    "\n",
    "[ 0.8607, -0.1706, -0.6923,  0.7893,  0.9136, -0.5567,  0.2506,  0.6171, -0.1277,  0.9316]\n",
    "\n",
    "[ 0.9276, -0.0623, -0.5001,  0.9249,  0.9106, -0.1990,  0.4993,  0.5846, 0.2723,  0.9168]"
   ],
   "metadata": {
    "collapsed": false
   }
  },
  {
   "cell_type": "code",
   "execution_count": 61,
   "outputs": [],
   "source": [
    "test_sample = 100000\n",
    "c = 1"
   ],
   "metadata": {
    "collapsed": false
   }
  },
  {
   "cell_type": "code",
   "execution_count": 62,
   "outputs": [],
   "source": [
    "point = Variable(Tensor([ 0.8582,  0.0032, -0.2556,  0.8472,  0.8838, -0.1246,  0.4288,  0.6623, 0.2847,  1.1510]))\n",
    "u_G = [0.84623921, 0.15091511, 0.12822951, 0.71534105, 0.93871608, 0.17218971, 0.55273356, 0.88380656, 0.35630968, 0.9762188]\n"
   ],
   "metadata": {
    "collapsed": false
   }
  },
  {
   "cell_type": "code",
   "execution_count": 63,
   "outputs": [],
   "source": [
    "class test_Discriminator(nn.Module):\n",
    "    def __init__(self):\n",
    "        super(test_Discriminator, self).__init__()\n",
    "\n",
    "        self.model = nn.Sequential(\n",
    "            nn.Linear(2, 64),\n",
    "            nn.LeakyReLU(0.8, inplace=True),\n",
    "            nn.Linear(64, 256),\n",
    "            nn.LeakyReLU(0.8, inplace=True),\n",
    "            nn.Linear(256, 256),\n",
    "            nn.LeakyReLU(0.8, inplace=True),\n",
    "            nn.Linear(256, 64),\n",
    "            nn.LeakyReLU(0.8, inplace=True),\n",
    "            nn.Linear(64, 1),\n",
    "            nn.Sigmoid(),\n",
    "        )\n",
    "\n",
    "    def forward(self, x):\n",
    "        validity = self.model(x)\n",
    "        return validity"
   ],
   "metadata": {
    "collapsed": false
   }
  },
  {
   "cell_type": "code",
   "execution_count": 64,
   "outputs": [
    {
     "ename": "NameError",
     "evalue": "name 'device' is not defined",
     "output_type": "error",
     "traceback": [
      "\u001B[0;31m---------------------------------------------------------------------------\u001B[0m",
      "\u001B[0;31mNameError\u001B[0m                                 Traceback (most recent call last)",
      "Cell \u001B[0;32mIn [64], line 1\u001B[0m\n\u001B[0;32m----> 1\u001B[0m test_dis \u001B[38;5;241m=\u001B[39m test_Discriminator()\u001B[38;5;241m.\u001B[39mto(\u001B[43mdevice\u001B[49m)\n\u001B[1;32m      2\u001B[0m optimizer_testD \u001B[38;5;241m=\u001B[39m torch\u001B[38;5;241m.\u001B[39moptim\u001B[38;5;241m.\u001B[39mAdam(test_dis\u001B[38;5;241m.\u001B[39mparameters(), lr\u001B[38;5;241m=\u001B[39mopt\u001B[38;5;241m.\u001B[39md_lr)\n",
      "\u001B[0;31mNameError\u001B[0m: name 'device' is not defined"
     ]
    }
   ],
   "source": [
    "test_dis = test_Discriminator().to(device)\n",
    "optimizer_testD = torch.optim.Adam(test_dis.parameters(), lr=0.01)"
   ],
   "metadata": {
    "collapsed": false
   }
  },
  {
   "cell_type": "code",
   "execution_count": 65,
   "outputs": [],
   "source": [
    "def gen_g_data(exp, cov, n_sample=100000):\n",
    "    ori = np.random.multivariate_normal(exp, cov, n_sample)\n",
    "    return ori"
   ],
   "metadata": {
    "collapsed": false
   }
  },
  {
   "cell_type": "code",
   "execution_count": 66,
   "outputs": [],
   "source": [
    "def get_d_loss(net, real, fake):\n",
    "    # return -tf.reduce_mean(real) - tf.reduce_mean(1. - fake)\n",
    "    return -torch.mean(torch.log(net(real) + 1e-10) + torch.log(1. - net(fake) + 1e-10))\n",
    "\n",
    "def get_g_loss(fake):\n",
    "    # return tf.reduce_mean(1. - fake)\n",
    "    return -torch.mean(torch.log(fake + 1e-10))\n",
    "\n",
    "def d_real_loss(real, fake):\n",
    "    \"\"\"\n",
    "    calculate the expectation of\n",
    "        real + 1 - fake\n",
    "\n",
    "    :param real:\n",
    "    :param fake:\n",
    "    :return:\n",
    "    \"\"\"\n",
    "    return torch.mean(real) + torch.mean(1. - fake)\n",
    "\n",
    "def d_metric(net, ori, contrast):\n",
    "    # get the probabilities\n",
    "    ori = net(ori)\n",
    "    contrast = net(contrast)\n",
    "\n",
    "    # get D^\n",
    "    ori = torch.where(ori < 0.5, 0., 1.)\n",
    "    contrast = torch.where(contrast < 0.5, 0., 1.)\n",
    "\n",
    "    # print calculated TVD\n",
    "    metric = d_real_loss(ori, contrast) - 1\n",
    "    # tf.print(\"TVD-ori\", metric, \"TVD-cal\", a, \"delta\", tf.abs(metric - a))\n",
    "    return metric\n",
    "\n",
    "def g_metric_base(c, n_dim):\n",
    "    \"\"\"\n",
    "    TV distance 解析解\n",
    "\n",
    "    c:\n",
    "\n",
    "    n_dim:\n",
    "        dimension of the data\n",
    "    \"\"\"\n",
    "    r_sq = n_dim * (1 + c) * np.log(1 + c) / c\n",
    "    return torch.igamma(torch.tensor(n_dim) / 2, torch.tensor(r_sq) / 2) - torch.igamma(torch.tensor(n_dim) / 2, torch.tensor(r_sq) / ((1 + c) * 2))"
   ],
   "metadata": {
    "collapsed": false
   }
  },
  {
   "cell_type": "code",
   "execution_count": 67,
   "outputs": [
    {
     "name": "stdout",
     "output_type": "stream",
     "text": [
      "ug [0.84623921, 0.15091511, 0.12822951, 0.71534105, 0.93871608, 0.17218971, 0.55273356, 0.88380656, 0.35630968, 0.9762188] point tensor([ 0.8582,  0.0032, -0.2556,  0.8472,  0.8838, -0.1246,  0.4288,  0.6623,\n",
      "         0.2847,  1.1510])\n",
      "------------------------------Test-result-----------------------------------------\n"
     ]
    },
    {
     "ename": "IndexError",
     "evalue": "index 7 is out of bounds for axis 0 with size 5",
     "output_type": "error",
     "traceback": [
      "\u001B[0;31m---------------------------------------------------------------------------\u001B[0m",
      "\u001B[0;31mIndexError\u001B[0m                                Traceback (most recent call last)",
      "Cell \u001B[0;32mIn [67], line 12\u001B[0m\n\u001B[1;32m     10\u001B[0m \u001B[38;5;28;01mwhile\u001B[39;00m dim_1 \u001B[38;5;241m==\u001B[39m dim_2:\n\u001B[1;32m     11\u001B[0m     dim_2 \u001B[38;5;241m=\u001B[39m random\u001B[38;5;241m.\u001B[39mrandint(\u001B[38;5;241m0\u001B[39m, \u001B[38;5;241m9\u001B[39m)\n\u001B[0;32m---> 12\u001B[0m TVD_num \u001B[38;5;241m=\u001B[39m \u001B[43mcal_numerical_TVD\u001B[49m\u001B[43m(\u001B[49m\u001B[43msig_G\u001B[49m\u001B[43m,\u001B[49m\u001B[43m \u001B[49m\u001B[43mdim_1\u001B[49m\u001B[43m,\u001B[49m\u001B[43m \u001B[49m\u001B[43mdim_2\u001B[49m\u001B[43m,\u001B[49m\u001B[43m \u001B[49m\u001B[43mc\u001B[49m\u001B[43m \u001B[49m\u001B[38;5;241;43m+\u001B[39;49m\u001B[43m \u001B[49m\u001B[38;5;241;43m1\u001B[39;49m\u001B[43m)\u001B[49m\n\u001B[1;32m     13\u001B[0m \u001B[38;5;28mprint\u001B[39m(\u001B[38;5;124m\"\u001B[39m\u001B[38;5;124mtrial\u001B[39m\u001B[38;5;124m\"\u001B[39m, test, \u001B[38;5;124m\"\u001B[39m\u001B[38;5;124mdim\u001B[39m\u001B[38;5;124m\"\u001B[39m, dim_1, dim_2, \u001B[38;5;124m\"\u001B[39m\u001B[38;5;124mTVD\u001B[39m\u001B[38;5;124m\"\u001B[39m, TVD_num)\n\u001B[1;32m     14\u001B[0m \u001B[38;5;28;01mfor\u001B[39;00m i \u001B[38;5;129;01min\u001B[39;00m \u001B[38;5;28mrange\u001B[39m(\u001B[38;5;241m50\u001B[39m):\n",
      "Cell \u001B[0;32mIn [23], line 2\u001B[0m, in \u001B[0;36mcal_numerical_TVD\u001B[0;34m(sigma, i, j, c)\u001B[0m\n\u001B[1;32m      1\u001B[0m \u001B[38;5;28;01mdef\u001B[39;00m \u001B[38;5;21mcal_numerical_TVD\u001B[39m(sigma, i, j, c):\n\u001B[0;32m----> 2\u001B[0m     sig \u001B[38;5;241m=\u001B[39m np\u001B[38;5;241m.\u001B[39marray([[\u001B[43msigma\u001B[49m\u001B[43m[\u001B[49m\u001B[43mi\u001B[49m\u001B[43m]\u001B[49m[i], sigma[i][j]], [sigma[j][i], sigma[j][j]]])\n\u001B[1;32m      3\u001B[0m     \u001B[38;5;28mprint\u001B[39m(sig)\n\u001B[1;32m      4\u001B[0m     val, err \u001B[38;5;241m=\u001B[39m dblquad(\u001B[38;5;28;01mlambda\u001B[39;00m y, x: np\u001B[38;5;241m.\u001B[39mabs(gauss(np\u001B[38;5;241m.\u001B[39marray([x, y]), sig) \u001B[38;5;241m-\u001B[39m gauss(np\u001B[38;5;241m.\u001B[39marray([x, y]), c \u001B[38;5;241m*\u001B[39m sig)) \u001B[38;5;241m/\u001B[39m \u001B[38;5;241m2\u001B[39m,\n\u001B[1;32m      5\u001B[0m                        \u001B[38;5;241m-\u001B[39mnp\u001B[38;5;241m.\u001B[39minf, np\u001B[38;5;241m.\u001B[39minf, \u001B[38;5;241m-\u001B[39mnp\u001B[38;5;241m.\u001B[39minf, np\u001B[38;5;241m.\u001B[39minf)\n",
      "\u001B[0;31mIndexError\u001B[0m: index 7 is out of bounds for axis 0 with size 5"
     ]
    }
   ],
   "source": [
    "point = torch.tile(point, (test_sample, 1))\n",
    "print(\"ug\", u_G, \"point\", point[0])\n",
    "# --------------------------\n",
    "# Test\n",
    "# --------------------------\n",
    "print(\"------------------------------Test-result-----------------------------------------\")\n",
    "for test in range(6):\n",
    "    dim_1 = random.randint(0, 9)\n",
    "    dim_2 = random.randint(0, 9)\n",
    "    while dim_1 == dim_2:\n",
    "        dim_2 = random.randint(0, 9)\n",
    "    TVD_num = cal_numerical_TVD(sig_G, dim_1, dim_2, c + 1)\n",
    "    print(\"trial\", test, \"dim\", dim_1, dim_2, \"TVD\", TVD_num)\n",
    "    for i in range(50):\n",
    "        test_ori_data = Variable(Tensor(gen_g_data(u_G, sig_G, test_sample))).to(device)\n",
    "        test_fake_data = point + Variable(Tensor(np.random.multivariate_normal(np.zeros(10), (c + 1) * sig_G, test_sample))).to(device)\n",
    "\n",
    "        test_ori = torch.cat((test_ori_data[:, dim_1:dim_1 + 1], test_ori_data[:, dim_2:dim_2 + 1]), dim=1)\n",
    "        test_fake = torch.cat((test_fake_data[:, dim_1:dim_1 + 1], test_fake_data[:, dim_2:dim_2 + 1]), dim=1)\n",
    "        # print(test_ori, test_fake)\n",
    "\n",
    "        prev_metric = 1000.\n",
    "        for d_epoch in range(5000):\n",
    "            optimizer_testD.zero_grad()\n",
    "\n",
    "            d_loss = get_d_loss(test_dis, test_ori, test_fake.detach())\n",
    "            d_loss.backward()\n",
    "            optimizer_testD.step()\n",
    "            train_metric = d_metric(test_dis, test_ori, test_fake)\n",
    "            if (torch.abs_((train_metric - prev_metric)) < 1e-4):\n",
    "                print(train_metric.item())\n",
    "                break\n",
    "            prev_metric = train_metric"
   ],
   "metadata": {
    "collapsed": false
   }
  },
  {
   "cell_type": "code",
   "execution_count": 79,
   "outputs": [],
   "source": [
    "A = [[7.6224201,  5.13687972, 6.20101875, 5.23219945, 5.50632698, 7.71639942, 4.37488368, 6.59550037, 5.85394109, 4.5853117 ],\n",
    " [5.13687972, 6.55478527, 3.85091955, 3.96130058, 5.74537182, 6.6014608, 3.15404838, 4.50551946, 6.40139768, 3.86376401],\n",
    " [6.20101875, 3.85091955, 6.58735655, 5.10539876, 4.60607361, 6.61517404, 4.07005041, 6.07003765, 5.54842133, 2.89232711],\n",
    " [5.23219945, 3.96130058, 5.10539876, 5.19042475, 4.93365137, 6.30952044, 3.88081521, 4.38545165, 5.14069357, 3.19297651],\n",
    " [5.50632698, 5.74537182, 4.60607361, 4.93365137, 6.23173784, 7.0182592, 4.08759713, 4.08465763, 5.95464345, 3.93888992],\n",
    " [7.71639942, 6.6014608,  6.61517404, 6.30952044, 7.0182592,  9.24235444, 4.85003648, 6.08668315, 7.43283991, 4.99179672],\n",
    " [4.37488368, 3.15404838, 4.07005041, 3.88081521, 4.08759713, 4.85003648, 3.93210023, 3.60741328, 3.90110952, 2.88819139],\n",
    " [6.59550037, 4.50551946, 6.07003765, 4.38545165, 4.08465763, 6.08668315, 3.60741328, 7.7184,     5.9526708,  3.42800809],\n",
    " [5.85394109, 6.40139768, 5.54842133, 5.14069357, 5.95464345, 7.43283991, 3.90110952, 5.9526708,  8.01019363, 3.96765813],\n",
    " [4.5853117,  3.86376401, 2.89232711, 3.19297651, 3.93888992, 4.99179672, 2.88819139, 3.42800809, 3.96765813, 3.89080807]]"
   ],
   "metadata": {
    "collapsed": false
   }
  },
  {
   "cell_type": "code",
   "execution_count": null,
   "outputs": [],
   "source": [
    "[0.68642877 0.90400085 0.89764726 0.70365138 0.63324737 0.36242745 0.3663052  0.85856962 0.34622337 0.66512134]"
   ],
   "metadata": {
    "collapsed": false
   }
  },
  {
   "cell_type": "code",
   "execution_count": 72,
   "outputs": [
    {
     "name": "stdout",
     "output_type": "stream",
     "text": [
      "[0.57398805 0.34198136 0.64399551 0.38267723 0.34367104 0.14869019\n",
      " 0.79870514 0.67632847 0.1318016  0.59037254] [[3.30449    1.69253706 3.05125322 3.60404035 3.0630276  4.09816304\n",
      "  1.77090245 2.76432    2.44814641 3.03077962]\n",
      " [1.69253706 3.11966672 3.96368838 4.12134094 4.26233891 3.52004754\n",
      "  2.995824   2.61146224 3.0736474  3.54939428]\n",
      " [3.05125322 3.96368838 8.80338246 6.36310199 6.07468609 5.75921539\n",
      "  6.35196818 3.94752103 4.38798945 4.90481352]\n",
      " [3.60404035 4.12134094 6.36310199 7.6685419  6.26540191 5.6088127\n",
      "  4.94724775 5.33062349 4.54211857 5.58198135]\n",
      " [3.0630276  4.26233891 6.07468609 6.26540191 7.87390595 6.33380078\n",
      "  5.03710417 4.68790592 5.38756504 6.11887307]\n",
      " [4.09816304 3.52004754 5.75921539 5.6088127  6.33380078 7.62930541\n",
      "  4.56801057 4.18924386 4.9372153  4.99196554]\n",
      " [1.77090245 2.995824   6.35196818 4.94724775 5.03710417 4.56801057\n",
      "  5.81987104 3.41310165 3.28185439 3.983062  ]\n",
      " [2.76432    2.61146224 3.94752103 5.33062349 4.68790592 4.18924386\n",
      "  3.41310165 4.99249263 2.81514244 4.56464965]\n",
      " [2.44814641 3.0736474  4.38798945 4.54211857 5.38756504 4.9372153\n",
      "  3.28185439 2.81514244 5.01078938 3.23136639]\n",
      " [3.03077962 3.54939428 4.90481352 5.58198135 6.11887307 4.99196554\n",
      "  3.983062   4.56464965 3.23136639 6.05737461]]\n"
     ]
    }
   ],
   "source": [
    "u_G = np.random.random(10)\n",
    "assert (u_G == 0).sum() != 10\n",
    "radius = math.sqrt((u_G * u_G).sum())\n",
    "tmp = np.random.random((10, 10))\n",
    "tmp = np.dot(tmp, tmp.transpose())\n",
    "sig_G = tmp + tmp.T\n",
    "print(u_G, sig_G)"
   ],
   "metadata": {
    "collapsed": false
   }
  },
  {
   "cell_type": "code",
   "execution_count": 82,
   "outputs": [],
   "source": [
    "A = [[6.70344745, 3.72302146, 5.12721976, 3.45682491, 2.50684365, 4.50200168,5.35977539, 3.91405633, 3.12108987, 3.66437961],\n",
    " [3.72302146, 4.71241606, 3.84008895, 2.41718105, 2.8675421,  4.31742486,3.114784, 3.88741647, 1.93085409, 3.62538204],\n",
    " [5.12721976, 3.84008895, 6.59543031, 4.51623981, 3.35127452, 5.65210835,4.36272335, 5.03369366, 3.04455897, 3.72150854],\n",
    " [3.45682491, 2.41718105, 4.51623981, 3.59241169, 2.15913668, 4.07915255,2.90886253, 3.05325609, 2.18920194, 2.36495133],\n",
    " [2.50684365, 2.8675421  ,3.35127452, 2.15913668, 4.09798389, 4.52556228,2.35404212, 3.64482338 ,1.49189422 ,3.50601166],\n",
    " [4.50200168, 4.31742486, 5.65210835, 4.07915255, 4.52556228, 7.52802586,4.20885642, 6.0450614,  2.757288  , 4.17512582],\n",
    " [5.35977539, 3.114784,   4.36272335, 2.90886253, 2.35404212, 4.20885642,4.91019135, 4.05200586, 2.26395103, 3.24743557],\n",
    " [3.91405633, 3.88741647, 5.03369366, 3.05325609, 3.64482338, 6.0450614,4.05200586, 6.60162526, 2.05166513, 3.34668222],\n",
    " [3.12108987, 1.93085409, 3.04455897, 2.18920194, 1.49189422, 2.757288,2.26395103, 2.05166513, 2.16708823, 1.94724058],\n",
    " [3.66437961, 3.62538204, 3.72150854, 2.36495133, 3.50601166, 4.17512582,3.24743557, 3.34668222, 1.94724058, 4.15420753]]"
   ],
   "metadata": {
    "collapsed": false
   }
  },
  {
   "cell_type": "code",
   "execution_count": 43,
   "outputs": [],
   "source": [
    "import numpy as np"
   ],
   "metadata": {
    "collapsed": false
   }
  },
  {
   "cell_type": "code",
   "execution_count": 44,
   "outputs": [],
   "source": [
    "B = np.linalg.eigvals(A)"
   ],
   "metadata": {
    "collapsed": false
   }
  },
  {
   "cell_type": "code",
   "execution_count": 45,
   "outputs": [
    {
     "data": {
      "text/plain": "array([59.12036639,  7.52811779,  6.84795035,  7.30276283,  5.8388788 ,\n        4.76385161,  4.00475238,  4.04759134,  4.22050916,  4.53072454])"
     },
     "execution_count": 45,
     "metadata": {},
     "output_type": "execute_result"
    }
   ],
   "source": [
    "B"
   ],
   "metadata": {
    "collapsed": false
   }
  },
  {
   "cell_type": "code",
   "execution_count": 40,
   "outputs": [],
   "source": [
    "A = [[10.76436003,  5.47605482 , 4.52605946 , 4.87705617 , 5.25142921 , 5.56086034,\n",
    "   3.9250431,   4.60694116 , 4.80677584 , 6.30234086],\n",
    " [ 5.47605482, 10.17185045 , 5.18466563 , 4.96431168 , 5.21379797 , 5.36460511,\n",
    "   5.42815691,  4.84284419,  5.25406816 , 6.20031935],\n",
    " [ 4.52605946,  5.18466563 ,10.60027366 , 3.92397824 , 4.502657,    5.0143747,\n",
    "   4.7175623,   5.11881256 , 5.0154492 ,  6.2571088 ],\n",
    " [ 4.87705617,  4.96431168 , 3.92397824 , 9.69087419 , 5.92660257,  5.43168463,\n",
    "   4.66315653,  4.90088661 , 4.87544232 , 5.39532108],\n",
    " [ 5.25142921,  5.21379797 , 4.502657  ,  5.92660257 ,11.3983297,   6.00013756,\n",
    "   4.73375662,  6.37893814 , 5.86581683 , 6.7452099 ],\n",
    " [ 5.56086034,  5.36460511 , 5.0143747  , 5.43168463 , 6.00013756, 10.19875276,\n",
    "   5.19244488,  5.8629758  , 5.38952709,  6.21553577],\n",
    " [ 3.9250431 ,  5.42815691,  4.7175623 ,  4.66315653 , 4.73375662,  5.19244488,\n",
    "  10.79174575,  4.8435046 ,  4.83713841,  4.87742913],\n",
    " [ 4.60694116,  4.84284419 , 5.11881256 , 4.90088661 , 6.37893814 , 5.8629758,\n",
    "   4.8435046,  10.74937463  ,5.54911376,  6.38249321],\n",
    " [ 4.80677584 , 5.25406816 , 5.0154492,   4.87544232 , 5.86581683 , 5.38952709,\n",
    "   4.83713841 , 5.54911376 ,11.17661831 , 7.46287822],\n",
    " [ 6.30234086 , 6.20031935 , 6.2571088  , 5.39532108 , 6.7452099 ,  6.21553577,\n",
    "   4.87742913 , 6.38249321 , 7.46287822, 12.6633257 ]]"
   ],
   "metadata": {
    "collapsed": false
   }
  },
  {
   "cell_type": "code",
   "execution_count": null,
   "outputs": [],
   "source": [
    "[0.09794686 0.25410163 0.38754689 0.47619852 0.27091234 0.29948665 0.97327622 0.00507328 0.93313256 0.27981733]"
   ],
   "metadata": {
    "collapsed": false
   }
  },
  {
   "cell_type": "code",
   "execution_count": 49,
   "outputs": [],
   "source": [
    "inputs = Tensor([ 6.30234086 , 6.20031935 , 6.2571088  , 5.39532108 , 6.7452099 ,  6.21553577,\n",
    "   4.87742913 , 6.38249321 , 7.46287822, 12.6633257 ])"
   ],
   "metadata": {
    "collapsed": false
   }
  },
  {
   "cell_type": "code",
   "execution_count": 52,
   "outputs": [
    {
     "data": {
      "text/plain": "tensor([ 6.3023,  6.2003,  6.2571,  5.3953,  6.7452,  6.2155,  4.8774,  6.3825,\n         7.4629, 12.6633])"
     },
     "execution_count": 52,
     "metadata": {},
     "output_type": "execute_result"
    }
   ],
   "source": [
    "inputs"
   ],
   "metadata": {
    "collapsed": false
   }
  },
  {
   "cell_type": "code",
   "execution_count": 51,
   "outputs": [
    {
     "data": {
      "text/plain": "array([ 6.302341 ,  6.2003193,  6.2571087,  5.395321 ,  6.7452097,\n        6.2155356,  4.877429 ,  6.382493 ,  7.462878 , 12.663325 ],\n      dtype=float32)"
     },
     "execution_count": 51,
     "metadata": {},
     "output_type": "execute_result"
    }
   ],
   "source": [
    "inputs.numpy()"
   ],
   "metadata": {
    "collapsed": false
   }
  },
  {
   "cell_type": "code",
   "execution_count": 7,
   "outputs": [
    {
     "data": {
      "text/plain": "tensor([[0., 0., 0., 0., 0.]])"
     },
     "execution_count": 7,
     "metadata": {},
     "output_type": "execute_result"
    }
   ],
   "source": [
    "torch.zeros(1, 5, dtype=torch.float32)"
   ],
   "metadata": {
    "collapsed": false
   }
  },
  {
   "cell_type": "code",
   "execution_count": 10,
   "outputs": [],
   "source": [
    "import torch.nn as nn"
   ],
   "metadata": {
    "collapsed": false
   }
  },
  {
   "cell_type": "code",
   "execution_count": 11,
   "outputs": [
    {
     "data": {
      "text/plain": "Parameter containing:\ntensor([[0., 0., 0., 0., 0.]], requires_grad=True)"
     },
     "execution_count": 11,
     "metadata": {},
     "output_type": "execute_result"
    }
   ],
   "source": [
    "nn.Parameter(torch.zeros(1, 5, dtype=torch.float32))"
   ],
   "metadata": {
    "collapsed": false
   }
  },
  {
   "cell_type": "code",
   "execution_count": 14,
   "outputs": [],
   "source": [
    "class NN2(nn.Module):\n",
    "  def __init__(self, input_shape, n_width=32, n_out=None, **kwargs):\n",
    "    super(NN2, self).__init__(**kwargs)\n",
    "    self.n_width = n_width\n",
    "    self.n_out = n_out\n",
    "\n",
    "    self.l_1 = nn.Linear(input_shape, self.n_width)\n",
    "    self.l_2 = nn.Linear(self.n_width, self.n_width)\n",
    "\n",
    "    n_out = self.n_out or int(input_shape[-1])\n",
    "    self.l_f = nn.Linear(self.n_width, n_out)\n",
    "\n",
    "  def call(self, inputs):\n",
    "    # relu with low regularity\n",
    "    x = nn.ReLU(self.l_1(inputs))\n",
    "    x = nn.ReLU(self.l_2(x))\n",
    "\n",
    "    # tanh with high regularity\n",
    "    #x = tf.nn.tanh(self.l_1(inputs))\n",
    "    #x = tf.nn.tanh(self.l_2(x))\n",
    "\n",
    "    x = self.l_f(x)\n",
    "\n",
    "    return x"
   ],
   "metadata": {
    "collapsed": false
   }
  },
  {
   "cell_type": "code",
   "execution_count": 17,
   "outputs": [
    {
     "ename": "TypeError",
     "evalue": "empty(): argument 'size' must be tuple of SymInts, but found element of type list at pos 2",
     "output_type": "error",
     "traceback": [
      "\u001B[0;31m---------------------------------------------------------------------------\u001B[0m",
      "\u001B[0;31mTypeError\u001B[0m                                 Traceback (most recent call last)",
      "Cell \u001B[0;32mIn [17], line 1\u001B[0m\n\u001B[0;32m----> 1\u001B[0m \u001B[43mNN2\u001B[49m\u001B[43m(\u001B[49m\u001B[43m[\u001B[49m\u001B[38;5;241;43m3\u001B[39;49m\u001B[43m,\u001B[49m\u001B[38;5;241;43m5\u001B[39;49m\u001B[43m]\u001B[49m\u001B[43m,\u001B[49m\u001B[38;5;241;43m5\u001B[39;49m\u001B[43m,\u001B[49m\u001B[43m \u001B[49m\u001B[43m(\u001B[49m\u001B[38;5;241;43m3\u001B[39;49m\u001B[43m)\u001B[49m\u001B[43m)\u001B[49m\n",
      "Cell \u001B[0;32mIn [14], line 7\u001B[0m, in \u001B[0;36mNN2.__init__\u001B[0;34m(self, input_shape, n_width, n_out, **kwargs)\u001B[0m\n\u001B[1;32m      4\u001B[0m \u001B[38;5;28mself\u001B[39m\u001B[38;5;241m.\u001B[39mn_width \u001B[38;5;241m=\u001B[39m n_width\n\u001B[1;32m      5\u001B[0m \u001B[38;5;28mself\u001B[39m\u001B[38;5;241m.\u001B[39mn_out \u001B[38;5;241m=\u001B[39m n_out\n\u001B[0;32m----> 7\u001B[0m \u001B[38;5;28mself\u001B[39m\u001B[38;5;241m.\u001B[39ml_1 \u001B[38;5;241m=\u001B[39m \u001B[43mnn\u001B[49m\u001B[38;5;241;43m.\u001B[39;49m\u001B[43mLinear\u001B[49m\u001B[43m(\u001B[49m\u001B[43minput_shape\u001B[49m\u001B[43m,\u001B[49m\u001B[43m \u001B[49m\u001B[38;5;28;43mself\u001B[39;49m\u001B[38;5;241;43m.\u001B[39;49m\u001B[43mn_width\u001B[49m\u001B[43m)\u001B[49m\n\u001B[1;32m      8\u001B[0m \u001B[38;5;28mself\u001B[39m\u001B[38;5;241m.\u001B[39ml_2 \u001B[38;5;241m=\u001B[39m nn\u001B[38;5;241m.\u001B[39mLinear(\u001B[38;5;28mself\u001B[39m\u001B[38;5;241m.\u001B[39mn_width, \u001B[38;5;28mself\u001B[39m\u001B[38;5;241m.\u001B[39mn_width)\n\u001B[1;32m     10\u001B[0m n_out \u001B[38;5;241m=\u001B[39m \u001B[38;5;28mself\u001B[39m\u001B[38;5;241m.\u001B[39mn_out \u001B[38;5;129;01mor\u001B[39;00m \u001B[38;5;28mint\u001B[39m(input_shape[\u001B[38;5;241m-\u001B[39m\u001B[38;5;241m1\u001B[39m])\n",
      "File \u001B[0;32m~/miniforge3/envs/torch-gpu/lib/python3.8/site-packages/torch/nn/modules/linear.py:96\u001B[0m, in \u001B[0;36mLinear.__init__\u001B[0;34m(self, in_features, out_features, bias, device, dtype)\u001B[0m\n\u001B[1;32m     94\u001B[0m \u001B[38;5;28mself\u001B[39m\u001B[38;5;241m.\u001B[39min_features \u001B[38;5;241m=\u001B[39m in_features\n\u001B[1;32m     95\u001B[0m \u001B[38;5;28mself\u001B[39m\u001B[38;5;241m.\u001B[39mout_features \u001B[38;5;241m=\u001B[39m out_features\n\u001B[0;32m---> 96\u001B[0m \u001B[38;5;28mself\u001B[39m\u001B[38;5;241m.\u001B[39mweight \u001B[38;5;241m=\u001B[39m Parameter(\u001B[43mtorch\u001B[49m\u001B[38;5;241;43m.\u001B[39;49m\u001B[43mempty\u001B[49m\u001B[43m(\u001B[49m\u001B[43m(\u001B[49m\u001B[43mout_features\u001B[49m\u001B[43m,\u001B[49m\u001B[43m \u001B[49m\u001B[43min_features\u001B[49m\u001B[43m)\u001B[49m\u001B[43m,\u001B[49m\u001B[43m \u001B[49m\u001B[38;5;241;43m*\u001B[39;49m\u001B[38;5;241;43m*\u001B[39;49m\u001B[43mfactory_kwargs\u001B[49m\u001B[43m)\u001B[49m)\n\u001B[1;32m     97\u001B[0m \u001B[38;5;28;01mif\u001B[39;00m bias:\n\u001B[1;32m     98\u001B[0m     \u001B[38;5;28mself\u001B[39m\u001B[38;5;241m.\u001B[39mbias \u001B[38;5;241m=\u001B[39m Parameter(torch\u001B[38;5;241m.\u001B[39mempty(out_features, \u001B[38;5;241m*\u001B[39m\u001B[38;5;241m*\u001B[39mfactory_kwargs))\n",
      "\u001B[0;31mTypeError\u001B[0m: empty(): argument 'size' must be tuple of SymInts, but found element of type list at pos 2"
     ]
    }
   ],
   "source": [
    "NN2([3,5],5, (3))"
   ],
   "metadata": {
    "collapsed": false
   }
  },
  {
   "cell_type": "code",
   "execution_count": 20,
   "outputs": [],
   "source": [
    "r=1.2\n",
    "bound = 30\n",
    "n_bins = 4"
   ],
   "metadata": {
    "collapsed": false
   }
  },
  {
   "cell_type": "code",
   "execution_count": 29,
   "outputs": [
    {
     "name": "stderr",
     "output_type": "stream",
     "text": [
      "/var/folders/vm/7scsvf852h1csts2mztj6hnr0000gn/T/ipykernel_9123/2994907521.py:4: UserWarning: torch.range is deprecated and will be removed in a future release because its behavior is inconsistent with Python's range builtin. Instead, use torch.arange, which produces values in [start, end).\n",
      "  index = torch.reshape(torch.range(0, n_bins+1, dtype=torch.float32),(-1,1))\n"
     ]
    }
   ],
   "source": [
    "m = n_bins/2\n",
    "x1L = bound*(r-1.0)/(torch.pow(r, Tensor([m]))-1.0)\n",
    "\n",
    "index = torch.reshape(torch.range(0, n_bins+1, dtype=torch.float32),(-1,1))\n",
    "index -= m\n",
    "xr = torch.where(index>=0, (1.-torch.pow(r, Tensor(index)))/(1.-r),\n",
    "              (1.-torch.pow(r,torch.abs(index)))/(1.-r))\n",
    "xr = torch.where(index>=0, x1L*xr, -x1L*xr)\n",
    "xr = torch.reshape(xr,(-1,1))\n",
    "xr = (xr + bound)/2.0/bound"
   ],
   "metadata": {
    "collapsed": false
   }
  },
  {
   "cell_type": "code",
   "execution_count": 31,
   "outputs": [
    {
     "data": {
      "text/plain": "tensor([[0.0000],\n        [0.2727],\n        [0.5000],\n        [0.7273],\n        [1.0000],\n        [1.0000]])"
     },
     "execution_count": 31,
     "metadata": {},
     "output_type": "execute_result"
    }
   ],
   "source": [
    "a = torch.concat([torch.reshape(Tensor([0.0]),(-1,1)), torch.reshape(xr[1:-1,0],(-1,1)), torch.reshape(Tensor([1.0]),(-1,1))],0)\n",
    "a"
   ],
   "metadata": {
    "collapsed": false
   }
  },
  {
   "cell_type": "code",
   "execution_count": 32,
   "outputs": [
    {
     "data": {
      "text/plain": "tensor([[0.0000, 0.0000, 0.0000, 0.0000, 0.0000],\n        [0.2727, 0.2727, 0.2727, 0.2727, 0.2727],\n        [0.5000, 0.5000, 0.5000, 0.5000, 0.5000],\n        [0.7273, 0.7273, 0.7273, 0.7273, 0.7273],\n        [1.0000, 1.0000, 1.0000, 1.0000, 1.0000],\n        [1.0000, 1.0000, 1.0000, 1.0000, 1.0000]])"
     },
     "execution_count": 32,
     "metadata": {},
     "output_type": "execute_result"
    }
   ],
   "source": [
    "torch.tile(a, [1, 5])"
   ],
   "metadata": {
    "collapsed": false
   }
  },
  {
   "cell_type": "code",
   "execution_count": 37,
   "outputs": [
    {
     "data": {
      "text/plain": "tensor([[0.0000e+00, 0.0000e+00, 1.4013e-45, 0.0000e+00],\n        [1.4013e-45, 0.0000e+00, 1.4013e-45, 0.0000e+00],\n        [1.4013e-45, 0.0000e+00, 1.4013e-45, 0.0000e+00]])"
     },
     "execution_count": 37,
     "metadata": {},
     "output_type": "execute_result"
    }
   ],
   "source": [
    "torch.empty((3, 4), dtype=torch.float32)"
   ],
   "metadata": {
    "collapsed": false
   }
  },
  {
   "cell_type": "code",
   "execution_count": 39,
   "outputs": [
    {
     "data": {
      "text/plain": "Parameter containing:\ntensor([[0., 0., 0., 0., 0.]], requires_grad=True)"
     },
     "execution_count": 39,
     "metadata": {},
     "output_type": "execute_result"
    }
   ],
   "source": [
    "nn.Parameter(torch.zeros(1, 5, dtype=torch.float32))"
   ],
   "metadata": {
    "collapsed": false
   }
  },
  {
   "cell_type": "code",
   "execution_count": 68,
   "outputs": [
    {
     "data": {
      "text/plain": "0.7130116688930774"
     },
     "execution_count": 68,
     "metadata": {},
     "output_type": "execute_result"
    }
   ],
   "source": [
    "a = [0.85169915, 0.2991933 , 0.87462798 ,0.36485074 ,0.34229901, 0.8980613 , 0.50002345, 0.00633536, 0.16558528 ,0.03962351]\n",
    "a = torch.tensor(a)\n",
    "1.2175043/torch.norm(a,dim=0,p=2).item()"
   ],
   "metadata": {
    "collapsed": false
   }
  },
  {
   "cell_type": "code",
   "execution_count": 2,
   "outputs": [],
   "source": [
    "import torch"
   ],
   "metadata": {
    "collapsed": false
   }
  },
  {
   "cell_type": "code",
   "execution_count": 10,
   "outputs": [],
   "source": [
    "a = [1.0593, 0.8722, 0.9306, 1.0661, 0.8598, 0.9132, 1.1765, 0.9211, 1.0185,1.1277]\n",
    "a = torch.tensor(a) - 1"
   ],
   "metadata": {
    "collapsed": false
   }
  },
  {
   "cell_type": "code",
   "execution_count": 12,
   "outputs": [
    {
     "data": {
      "text/plain": "0.332042396068573"
     },
     "execution_count": 12,
     "metadata": {},
     "output_type": "execute_result"
    }
   ],
   "source": [
    "torch.norm(a,dim=0,p=2).item()"
   ],
   "metadata": {
    "collapsed": false
   }
  },
  {
   "cell_type": "code",
   "execution_count": 128,
   "outputs": [
    {
     "data": {
      "text/plain": "tensor([0, 0, 0, 0, 0, 0, 0, 0, 0, 0], dtype=torch.int32)"
     },
     "execution_count": 128,
     "metadata": {},
     "output_type": "execute_result"
    }
   ],
   "source": [
    "a.type(torch.IntTensor)"
   ],
   "metadata": {
    "collapsed": false
   }
  },
  {
   "cell_type": "code",
   "execution_count": 102,
   "outputs": [
    {
     "data": {
      "text/plain": "10"
     },
     "execution_count": 102,
     "metadata": {},
     "output_type": "execute_result"
    }
   ],
   "source": [
    "a.size()[0]"
   ],
   "metadata": {
    "collapsed": false
   }
  },
  {
   "cell_type": "code",
   "execution_count": 2,
   "outputs": [],
   "source": [
    "import krmodel.BR_model as BR_model"
   ],
   "metadata": {
    "collapsed": false
   }
  },
  {
   "cell_type": "code",
   "execution_count": 4,
   "outputs": [
    {
     "ename": "TypeError",
     "evalue": "reshape(): argument 'input' (position 1) must be Tensor, not list",
     "output_type": "error",
     "traceback": [
      "\u001B[0;31m---------------------------------------------------------------------------\u001B[0m",
      "\u001B[0;31mTypeError\u001B[0m                                 Traceback (most recent call last)",
      "Cell \u001B[0;32mIn [4], line 1\u001B[0m\n\u001B[0;32m----> 1\u001B[0m net \u001B[38;5;241m=\u001B[39m \u001B[43mBR_model\u001B[49m\u001B[38;5;241;43m.\u001B[39;49m\u001B[43mIM_rNVP_KR_CDF\u001B[49m\u001B[43m(\u001B[49m\u001B[38;5;241;43m2\u001B[39;49m\u001B[43m,\u001B[49m\u001B[38;5;241;43m32\u001B[39;49m\u001B[43m,\u001B[49m\u001B[38;5;241;43m8\u001B[39;49m\u001B[43m)\u001B[49m\n",
      "File \u001B[0;32m~/Desktop/Finite_pytorch/krmodel/BR_model.py:223\u001B[0m, in \u001B[0;36mIM_rNVP_KR_CDF.__init__\u001B[0;34m(self, n_dim, n_step, n_depth, n_width, shrink_rate, flow_coupling, n_bins, rotation, **kwargs)\u001B[0m\n\u001B[1;32m    220\u001B[0m \u001B[38;5;28mself\u001B[39m\u001B[38;5;241m.\u001B[39msqueezing_layer \u001B[38;5;241m=\u001B[39m BR_layers\u001B[38;5;241m.\u001B[39msqueezing(n_dim, n_step)\n\u001B[1;32m    222\u001B[0m \u001B[38;5;28;01mif\u001B[39;00m \u001B[38;5;28mself\u001B[39m\u001B[38;5;241m.\u001B[39mn_bins \u001B[38;5;241m>\u001B[39m \u001B[38;5;241m0\u001B[39m:\n\u001B[0;32m--> 223\u001B[0m     \u001B[38;5;28mself\u001B[39m\u001B[38;5;241m.\u001B[39mcdf_layer \u001B[38;5;241m=\u001B[39m \u001B[43mBR_layers\u001B[49m\u001B[38;5;241;43m.\u001B[39;49m\u001B[43mscale_and_CDF\u001B[49m\u001B[43m(\u001B[49m\u001B[43mn_dim\u001B[49m\u001B[43m,\u001B[49m\u001B[43m \u001B[49m\u001B[43mn_bins\u001B[49m\u001B[38;5;241;43m=\u001B[39;49m\u001B[43mn_bins\u001B[49m\u001B[43m)\u001B[49m\n\u001B[1;32m    225\u001B[0m \u001B[38;5;66;03m# the prior distribution is the Gaussian distribution\u001B[39;00m\n\u001B[1;32m    226\u001B[0m \u001B[38;5;28mself\u001B[39m\u001B[38;5;241m.\u001B[39mlog_prior \u001B[38;5;241m=\u001B[39m BR_data\u001B[38;5;241m.\u001B[39mlog_standard_Gaussian\n",
      "File \u001B[0;32m~/Desktop/Finite_pytorch/krmodel/BR_layers.py:85\u001B[0m, in \u001B[0;36mscale_and_CDF.__init__\u001B[0;34m(self, input_dim, n_bins, **kwargs)\u001B[0m\n\u001B[1;32m     83\u001B[0m \u001B[38;5;28mself\u001B[39m\u001B[38;5;241m.\u001B[39mn_bins \u001B[38;5;241m=\u001B[39m n_bins\n\u001B[1;32m     84\u001B[0m \u001B[38;5;28mself\u001B[39m\u001B[38;5;241m.\u001B[39mscale_layer \u001B[38;5;241m=\u001B[39m actnorm(input_dim)\n\u001B[0;32m---> 85\u001B[0m \u001B[38;5;28mself\u001B[39m\u001B[38;5;241m.\u001B[39mcdf_layer \u001B[38;5;241m=\u001B[39m \u001B[43mCDF_quadratic\u001B[49m\u001B[43m(\u001B[49m\u001B[43minput_dim\u001B[49m\u001B[43m,\u001B[49m\u001B[43m \u001B[49m\u001B[38;5;28;43mself\u001B[39;49m\u001B[38;5;241;43m.\u001B[39;49m\u001B[43mn_bins\u001B[49m\u001B[43m)\u001B[49m\n",
      "File \u001B[0;32m~/Desktop/Finite_pytorch/krmodel/BR_layers.py:588\u001B[0m, in \u001B[0;36mCDF_quadratic.__init__\u001B[0;34m(self, input_dim, n_bins, r, bound, beta, **kwargs)\u001B[0m\n\u001B[1;32m    585\u001B[0m xr \u001B[38;5;241m=\u001B[39m (xr \u001B[38;5;241m+\u001B[39m bound)\u001B[38;5;241m/\u001B[39m\u001B[38;5;241m2.0\u001B[39m\u001B[38;5;241m/\u001B[39mbound\n\u001B[1;32m    587\u001B[0m \u001B[38;5;28mself\u001B[39m\u001B[38;5;241m.\u001B[39mx1L \u001B[38;5;241m=\u001B[39m x1L\u001B[38;5;241m/\u001B[39m\u001B[38;5;241m2.0\u001B[39m\u001B[38;5;241m/\u001B[39mbound\n\u001B[0;32m--> 588\u001B[0m \u001B[38;5;28mself\u001B[39m\u001B[38;5;241m.\u001B[39mmesh \u001B[38;5;241m=\u001B[39m torch\u001B[38;5;241m.\u001B[39mconcat([\u001B[43mtorch\u001B[49m\u001B[38;5;241;43m.\u001B[39;49m\u001B[43mreshape\u001B[49m\u001B[43m(\u001B[49m\u001B[43m[\u001B[49m\u001B[38;5;241;43m0.0\u001B[39;49m\u001B[43m]\u001B[49m\u001B[43m,\u001B[49m\u001B[43m(\u001B[49m\u001B[38;5;241;43m-\u001B[39;49m\u001B[38;5;241;43m1\u001B[39;49m\u001B[43m,\u001B[49m\u001B[38;5;241;43m1\u001B[39;49m\u001B[43m)\u001B[49m\u001B[43m)\u001B[49m, torch\u001B[38;5;241m.\u001B[39mreshape(xr[\u001B[38;5;241m1\u001B[39m:\u001B[38;5;241m-\u001B[39m\u001B[38;5;241m1\u001B[39m,\u001B[38;5;241m0\u001B[39m],(\u001B[38;5;241m-\u001B[39m\u001B[38;5;241m1\u001B[39m,\u001B[38;5;241m1\u001B[39m)), torch\u001B[38;5;241m.\u001B[39mreshape([\u001B[38;5;241m1.0\u001B[39m],(\u001B[38;5;241m-\u001B[39m\u001B[38;5;241m1\u001B[39m,\u001B[38;5;241m1\u001B[39m))],\u001B[38;5;241m0\u001B[39m)\n\u001B[1;32m    589\u001B[0m \u001B[38;5;28mself\u001B[39m\u001B[38;5;241m.\u001B[39melmt_size \u001B[38;5;241m=\u001B[39m torch\u001B[38;5;241m.\u001B[39mreshape(\u001B[38;5;28mself\u001B[39m\u001B[38;5;241m.\u001B[39mmesh[\u001B[38;5;241m1\u001B[39m:] \u001B[38;5;241m-\u001B[39m \u001B[38;5;28mself\u001B[39m\u001B[38;5;241m.\u001B[39mmesh[:\u001B[38;5;241m-\u001B[39m\u001B[38;5;241m1\u001B[39m],(\u001B[38;5;241m-\u001B[39m\u001B[38;5;241m1\u001B[39m,\u001B[38;5;241m1\u001B[39m))\n\u001B[1;32m    591\u001B[0m \u001B[38;5;28mself\u001B[39m\u001B[38;5;241m.\u001B[39mn_length \u001B[38;5;241m=\u001B[39m input_dim\n",
      "\u001B[0;31mTypeError\u001B[0m: reshape(): argument 'input' (position 1) must be Tensor, not list"
     ]
    }
   ],
   "source": [
    "net = BR_model.IM_rNVP_KR_CDF(2,32,8)"
   ],
   "metadata": {
    "collapsed": false
   }
  },
  {
   "cell_type": "code",
   "execution_count": null,
   "outputs": [],
   "source": [],
   "metadata": {
    "collapsed": false
   }
  },
  {
   "cell_type": "code",
   "execution_count": null,
   "outputs": [],
   "source": [
    "torch.BoolTensor"
   ],
   "metadata": {
    "collapsed": false
   }
  },
  {
   "cell_type": "code",
   "execution_count": 113,
   "outputs": [
    {
     "data": {
      "text/plain": "tensor([[0., 1.],\n        [1., 0.]])"
     },
     "execution_count": 113,
     "metadata": {},
     "output_type": "execute_result"
    }
   ],
   "source": [
    "(~torch.BoolTensor([[True,False],[False,True]])).float()"
   ],
   "metadata": {
    "collapsed": false
   }
  },
  {
   "cell_type": "code",
   "execution_count": 2,
   "outputs": [],
   "source": [
    "import numpy as np"
   ],
   "metadata": {
    "collapsed": false
   }
  },
  {
   "cell_type": "code",
   "execution_count": 121,
   "outputs": [
    {
     "data": {
      "text/plain": "2"
     },
     "execution_count": 121,
     "metadata": {},
     "output_type": "execute_result"
    }
   ],
   "source": [
    "len(torch.zeros_like(torch.BoolTensor([[True,False],[False,True]])).shape)"
   ],
   "metadata": {
    "collapsed": false
   }
  },
  {
   "cell_type": "code",
   "execution_count": 132,
   "outputs": [],
   "source": [
    "x = np.random.random((200,2))"
   ],
   "metadata": {
    "collapsed": false,
    "pycharm": {
     "name": "#%%x\n"
    }
   }
  },
  {
   "cell_type": "code",
   "execution_count": 133,
   "outputs": [
    {
     "ename": "TypeError",
     "evalue": "__init__() missing 2 required positional arguments: 'n_step' and 'n_depth'",
     "output_type": "error",
     "traceback": [
      "\u001B[0;31m---------------------------------------------------------------------------\u001B[0m",
      "\u001B[0;31mTypeError\u001B[0m                                 Traceback (most recent call last)",
      "Cell \u001B[0;32mIn [133], line 1\u001B[0m\n\u001B[0;32m----> 1\u001B[0m \u001B[43mnet\u001B[49m\u001B[43m(\u001B[49m\u001B[43mx\u001B[49m\u001B[43m)\u001B[49m\n",
      "\u001B[0;31mTypeError\u001B[0m: __init__() missing 2 required positional arguments: 'n_step' and 'n_depth'"
     ]
    }
   ],
   "source": [
    "net(x)"
   ],
   "metadata": {
    "collapsed": false
   }
  },
  {
   "cell_type": "code",
   "execution_count": null,
   "outputs": [],
   "source": [],
   "metadata": {
    "collapsed": false
   }
  }
 ],
 "metadata": {
  "kernelspec": {
   "display_name": "Python 3",
   "language": "python",
   "name": "python3"
  },
  "language_info": {
   "codemirror_mode": {
    "name": "ipython",
    "version": 2
   },
   "file_extension": ".py",
   "mimetype": "text/x-python",
   "name": "python",
   "nbconvert_exporter": "python",
   "pygments_lexer": "ipython2",
   "version": "2.7.6"
  }
 },
 "nbformat": 4,
 "nbformat_minor": 0
}
